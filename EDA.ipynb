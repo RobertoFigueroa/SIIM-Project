{
 "cells": [
  {
   "cell_type": "markdown",
   "id": "8c063f34-22d9-4fb0-8717-96cfa9947e0b",
   "metadata": {},
   "source": [
    "# EDA"
   ]
  },
  {
   "cell_type": "code",
   "execution_count": 8,
   "id": "1b920ee4-4c18-477f-8f74-7890db217245",
   "metadata": {},
   "outputs": [],
   "source": [
    "import os\n",
    "from os import listdir\n",
    "import pandas as pd\n",
    "import numpy as np\n",
    "import glob\n",
    "from skimage import exposure\n",
    "import matplotlib.pyplot as plt\n",
    "%matplotlib inline\n",
    "\n",
    "# pydicom\n",
    "import pydicom\n",
    "from pydicom.pixel_data_handlers.util import apply_voi_lut\n",
    "from fastai.imports import *\n",
    "from fastai.medical.imaging import *\n",
    "\n",
    "\n",
    "from pydicom import dcmread, read_file\n",
    "from pydicom.data import get_\n",
    "data_file\n",
    "\n",
    "import cv2\n",
    "\n",
    "# color\n",
    "from colorama import Fore, Back, Style\n",
    "\n",
    "import seaborn as sns\n",
    "sns.set(style=\"whitegrid\")\n",
    "\n",
    "# plotly\n",
    "import plotly.express as px\n",
    "import plotly\n",
    "\n",
    "# Suppress warnings \n",
    "import warnings\n",
    "warnings.filterwarnings('ignore')\n",
    "\n",
    "import os\n",
    "from ast import literal_eval\n",
    "\n",
    "\n",
    "# Settings for pretty nice plots\n",
    "plt.style.use('fivethirtyeight')\n",
    "plt.show()"
   ]
  },
  {
   "cell_type": "markdown",
   "id": "3bc827f3-36dc-406f-aabf-bfee352640fa",
   "metadata": {},
   "source": [
    "Dado a que se están utilizando imágenes DICOM se deben instalar la librería correspondiente para su manejo"
   ]
  },
  {
   "cell_type": "code",
   "execution_count": 1,
   "id": "d00fd0a0-4878-4575-9922-dd90855a1aba",
   "metadata": {},
   "outputs": [
    {
     "name": "stdout",
     "output_type": "stream",
     "text": [
      "Collecting python-gdcm\n",
      "  Downloading python_gdcm-3.0.9.1-cp38-cp38-manylinux_2_17_x86_64.manylinux2014_x86_64.whl (9.4 MB)\n",
      "\u001b[K     |████████████████████████████████| 9.4 MB 718 kB/s eta 0:00:01     |█████████████▉                  | 4.0 MB 807 kB/s eta 0:00:07\n",
      "\u001b[?25hInstalling collected packages: python-gdcm\n",
      "Successfully installed python-gdcm-3.0.9.1\n"
     ]
    }
   ],
   "source": [
    "!pip install python-gdcm"
   ]
  },
  {
   "cell_type": "markdown",
   "id": "cd931630-dd5d-4750-b37d-1e05e8e53e84",
   "metadata": {},
   "source": [
    "## Exploración de datos"
   ]
  },
  {
   "cell_type": "markdown",
   "id": "339dcd84-2256-46b0-b014-dad4338d4f3d",
   "metadata": {},
   "source": [
    "Cargamos los datos en memoria"
   ]
  },
  {
   "cell_type": "code",
   "execution_count": null,
   "id": "c5c3d0f5-516b-4a36-abb7-8e7e7a2ece35",
   "metadata": {},
   "outputs": [],
   "source": [
    "PATH = '/kaggle/input/siim-covid19-detection/'\n",
    "#submission = pd.read_csv('/kaggle/input/siim-covid19-detection/sample_submission.csv', index_col=None)\n",
    "image_df = pd.read_csv('/kaggle/input/siim-covid19-detection/train_image_level.csv', index_col=None)\n",
    "study_df = pd.read_csv('/kaggle/input/siim-covid19-detection/train_study_level.csv', index_col=None)\n",
    "pd.set_option('display.max_columns', None)  \n",
    "pd.set_option('display.max_colwidth', None)\n",
    "print(f\"{y_}Train image level csv shape : {image_df.shape}{res}\\n{g_}Train study level csv shape : {study_df.shape}{res}\")"
   ]
  },
  {
   "cell_type": "code",
   "execution_count": null,
   "id": "8cf1be21-1872-4846-a8d8-42197e32caef",
   "metadata": {},
   "outputs": [],
   "source": [
    "all_files = []\n",
    "for dirname, _, filenames in os.walk('/kaggle/input'):\n",
    "    for filename in filenames:\n",
    "        all_files.append(os.path.join(dirname, filename))"
   ]
  },
  {
   "cell_type": "markdown",
   "id": "5b194603-4069-4d48-b771-ceed2aa19b13",
   "metadata": {},
   "source": [
    "Con los datos listos, procedemos a analizar lo que el conjunto de datos de estudio y de imágenes nos brindan"
   ]
  },
  {
   "cell_type": "markdown",
   "id": "97d2a453-2508-4c50-a12a-9d7856aab4ac",
   "metadata": {},
   "source": [
    "**Study level csv**"
   ]
  },
  {
   "cell_type": "code",
   "execution_count": null,
   "id": "f690e1f8-5712-46ef-b7a6-98b919a0a41a",
   "metadata": {},
   "outputs": [],
   "source": [
    "study_df.info()"
   ]
  },
  {
   "cell_type": "code",
   "execution_count": null,
   "id": "5c4a89b0-c0e4-47d6-a585-8279e601ecf6",
   "metadata": {},
   "outputs": [],
   "source": [
    "study_df.head()"
   ]
  },
  {
   "cell_type": "code",
   "execution_count": null,
   "id": "9588f7db-0c45-424e-b768-a4734f7194f6",
   "metadata": {},
   "outputs": [],
   "source": [
    "study_df.describe()"
   ]
  },
  {
   "cell_type": "markdown",
   "id": "1be89fa4-2524-47ac-bb97-5387f9eecd13",
   "metadata": {},
   "source": [
    "**Image Level csv**"
   ]
  },
  {
   "cell_type": "code",
   "execution_count": null,
   "id": "7e3fe55f-a33f-4bc1-aca2-7bffc23d4286",
   "metadata": {},
   "outputs": [],
   "source": [
    "image_df.info()"
   ]
  },
  {
   "cell_type": "code",
   "execution_count": null,
   "id": "bfd5bcec-15b6-49bd-9a6c-5e8967ce9271",
   "metadata": {},
   "outputs": [],
   "source": [
    "image_df.head()"
   ]
  },
  {
   "cell_type": "code",
   "execution_count": null,
   "id": "0272d549-34a1-4d66-905f-b4ab0b674ed1",
   "metadata": {},
   "outputs": [],
   "source": [
    "image_df.describe()"
   ]
  },
  {
   "cell_type": "markdown",
   "id": "91853d11-c606-42a7-a36d-06673053db6d",
   "metadata": {},
   "source": [
    "Se procede a manejar las diferentes categorias con diferentes colores"
   ]
  },
  {
   "cell_type": "code",
   "execution_count": null,
   "id": "2c400ce3-4bf1-41ed-9a0e-270d626682c4",
   "metadata": {},
   "outputs": [],
   "source": [
    "study_grp = pd.melt(study_df, id_vars=list(study_df.columns)[:1], value_vars=list(study_df.columns)[1:],\n",
    "             var_name='label', value_name='value')\n",
    "study_grp = study_grp.loc[study_grp['value']!=0]\n",
    "colors = {'Typical Appearance' : '#DCD427',\n",
    "'Negative for Pneumonia' : '#0092CC',\n",
    "'Indeterminate Appearance' : '#CC3333',\n",
    "#'Atypical Appearance' : '#779933',\n",
    "          'Atypical Appearance' : '#E6E6E6'\n",
    "         }\n",
    "\n",
    "study_grp = study_grp.groupby('label').sum().sort_values('value',ascending=False).reset_index()\n",
    "study_grp['color'] = study_grp['label'].apply(lambda x: colors[x])\n",
    "study_grp"
   ]
  },
  {
   "cell_type": "markdown",
   "id": "bdd375a9-6458-4e2e-92ce-a609f1cec4b3",
   "metadata": {},
   "source": [
    "Se define una función para representar gráficamente la distribución de las etiquetas en el dataset de estudio : "
   ]
  },
  {
   "cell_type": "code",
   "execution_count": null,
   "id": "b4ef4420-981f-4320-8f0d-086e276c6c77",
   "metadata": {},
   "outputs": [],
   "source": [
    "def plot_study_label(df):\n",
    "    pio.templates.default = \"plotly_dark\"\n",
    "    fig = px.bar(df, x='label', y='value',\n",
    "             hover_data=['label', 'value'], color='label',\n",
    "             #labels={column: label},\n",
    "             color_discrete_map=colors,\n",
    "             text='value')\n",
    "    fig.update_layout(xaxis={'categoryorder':'array', 'categoryarray': df['label'],\n",
    "                             'title' : None, \n",
    "                             'showgrid':False},\n",
    "                      yaxis={'showgrid':False,\n",
    "                            'title' : 'Count'},\n",
    "                      showlegend=False,\n",
    "                     title = 'Study samples in train data')\n",
    "    fig.update_traces(textfont_size=16)\n",
    "    fig.show()"
   ]
  },
  {
   "cell_type": "code",
   "execution_count": null,
   "id": "290e5a99-85cd-4df0-8c31-6bc5eb951ef6",
   "metadata": {},
   "outputs": [],
   "source": [
    "plot_study_label(study_grp)"
   ]
  },
  {
   "cell_type": "markdown",
   "id": "88b5087d-7e49-4c89-be70-171d6e97caf2",
   "metadata": {},
   "source": [
    "Para una mejor comprensión repecto a la distribución se procede a generar una gráfica de sectores: "
   ]
  },
  {
   "cell_type": "code",
   "execution_count": null,
   "id": "3bde47c0-b9d0-450e-8e6b-1f12361493f0",
   "metadata": {},
   "outputs": [],
   "source": [
    "study_grp['pct'] = round((study_grp['value'] / study_grp['value'].sum())*100,2)\n",
    "\n",
    "fig = go.Figure(data=[go.Pie(labels=study_grp['label'],\n",
    "                             values=study_grp['pct'],\n",
    "                             hole=.3,\n",
    "                             pull=[0.1, 0.1, 0.1, 0.1]\n",
    "                            )\n",
    "                     ]\n",
    "               )\n",
    "fig.update_traces(hoverinfo='label+percent', textinfo='percent', textfont_size=16,\n",
    "                  marker=dict(colors=study_grp['color'], line=dict(color='#000000', width=2))\n",
    "                 )\n",
    "fig.update_layout(title={'text': \"% of labels in training data\",\n",
    "        'y':0.9,\n",
    "        'x':0.45,\n",
    "        'xanchor': 'center',\n",
    "        'yanchor': 'top'})\n",
    "fig.show()\n",
    "\n"
   ]
  },
  {
   "cell_type": "markdown",
   "id": "7ce41a63-0194-4ab9-8233-c33247d34884",
   "metadata": {},
   "source": [
    "Por ahora tenemos una mejor compresión de las etiquetas y cómo están distribuidas dentro de ambos data sets. Procederemos a explorar los archivos DICOM, tomaremos una imagen de muestra y la analizaremos : "
   ]
  },
  {
   "cell_type": "code",
   "execution_count": null,
   "id": "f9ba131a-a950-4ea9-9ec5-7fa18f2e3b30",
   "metadata": {},
   "outputs": [],
   "source": [
    "file_path = PATH+\"train/00086460a852/9e8302230c91/65761e66de9f.dcm\"\n",
    "dicom = read_file(file_path, stop_before_pixels=False)"
   ]
  },
  {
   "cell_type": "markdown",
   "id": "4d1e6be1-bfe3-4950-9c57-17f3849808b6",
   "metadata": {},
   "source": [
    "Con esta imagen cargada en memoria procederemos a ver su representación: "
   ]
  },
  {
   "cell_type": "code",
   "execution_count": null,
   "id": "f078b932-1062-426b-b1af-e0c09abad71f",
   "metadata": {},
   "outputs": [],
   "source": [
    "img=dicom.pixel_array\n",
    "type(img), img.shape"
   ]
  },
  {
   "cell_type": "markdown",
   "id": "ed78b923-d5f4-48ab-8194-b56dec2a4a63",
   "metadata": {},
   "source": [
    "Con esto tenemos una idea de su tipo y tamaño, ahora procederemos a graficarla"
   ]
  },
  {
   "cell_type": "code",
   "execution_count": null,
   "id": "fdd1b52f-0fcd-4304-9b1a-1df112f48f57",
   "metadata": {},
   "outputs": [],
   "source": [
    "box = image_df.loc[image_df['id']=='65761e66de9f_image'].reset_index(drop=True)\n",
    "from ast import literal_eval\n",
    "\n",
    "import matplotlib.patches as patches\n",
    "# Create figure and axes\n",
    "fig, ax = plt.subplots(figsize=(10, 8))\n",
    "ax.imshow(img, cmap=\"gray\")\n",
    "# Create a Rectangle patch\n",
    "rect1 = patches.Rectangle((720.65215, 636.51048), 332.19348, 648.12561, linewidth=1.5, edgecolor='r', facecolor='none')\n",
    "rect2 = patches.Rectangle((2044.77989, 847.90622), 329.87049, 576.11169, linewidth=1.5, edgecolor='r', facecolor='none')\n",
    "# Add the patch to the Axes\n",
    "ax.add_patch(rect1)\n",
    "ax.add_patch(rect2)\n",
    "plt.show()"
   ]
  },
  {
   "cell_type": "markdown",
   "id": "93ba3457-83f1-4acd-a8ed-89d2bc7120e4",
   "metadata": {},
   "source": [
    "Ahora que tenemos una idea de cómo es una radiografía, procederemos a comparlas entre las etiquetas de diagnóstico"
   ]
  },
  {
   "cell_type": "code",
   "execution_count": null,
   "id": "02b73f0f-1614-4cb3-8c4e-9382f0b6665b",
   "metadata": {},
   "outputs": [],
   "source": [
    "def get_samples(num):\n",
    "    study_df_grp = pd.melt(study_df, id_vars=list(study_df.columns)[:1], value_vars=list(study_df.columns)[1:],\n",
    "             var_name='label', value_name='value')\n",
    "    study_df_grp = study_df_grp.loc[study_df_grp['value']!=0].reset_index(drop=True)\n",
    "    labels = list(study_df_grp['label'].unique())\n",
    "    study_samples = {}\n",
    "    for label in labels:\n",
    "        study_ids = study_df_grp.loc[study_df_grp['label'] == label].sample(num)['id'].tolist() #Get num sample rows from the datafame\n",
    "        samples = []\n",
    "        for study_id in study_ids:\n",
    "            image = {}\n",
    "            study_instance_id = study_id.split('_')[0]\n",
    "            image_id = image_df.loc[image_df['StudyInstanceUID']==study_instance_id]['id'].values[0].split('_')[0] #Get the image matching study id\n",
    "            file_name = [string for string in all_files if image_id in string]\n",
    "            image['study_id'] = study_instance_id\n",
    "            image['dicom_file'] = file_name[0]\n",
    "            #Get the bounding boxes\n",
    "            box = None\n",
    "            try:\n",
    "                box = literal_eval(image_df.loc[image_df['StudyInstanceUID']==study_instance_id]['boxes'].values[0])\n",
    "            except ValueError:\n",
    "                pass\n",
    "            image['boxes'] = box\n",
    "            samples.append(image)\n",
    "        study_samples[label] = samples\n",
    "    return study_samples\n",
    "\n",
    "samples = get_samples(6)\n",
    "\n",
    "def display_all_class_samples():\n",
    "    ''' Input : List of samples \n",
    "    '''\n",
    "    all_class_samples = []\n",
    "    for key in samples:\n",
    "        sample_dict = samples[key][0]\n",
    "        sample_dict['class'] = key\n",
    "        all_class_samples.append(sample_dict)\n",
    "    fig1, ax1 = plt.subplots(1,4, figsize=(18, 5), facecolor='w', edgecolor='b')\n",
    "    fig1.subplots_adjust(hspace =.3, wspace=0.3)\n",
    "    axs = ax1.ravel()\n",
    "    for item, ax in zip(all_class_samples, axs):\n",
    "        dicom = read_file(item['dicom_file'], stop_before_pixels=False)\n",
    "        img = dicom.pixel_array\n",
    "        ax.imshow(img, cmap=\"gray\")\n",
    "        if 'boxes' in item and item['boxes'] is not None:\n",
    "            for box in item['boxes']:             \n",
    "                rect = patches.Rectangle((box['x'], box['y']), box['width'], box['height'], linewidth=1.5, edgecolor='r', facecolor='none')\n",
    "                ax.add_patch(rect)\n",
    "        ax.set_title('{}'.format(item['class']),fontsize = 18)    \n",
    "    plt.tight_layout(pad=3.0)\n",
    "    plt.subplots_adjust(top=0.91)\n",
    "    plt.suptitle('Samples across all classes',fontsize = 20)\n",
    "    plt.show()\n"
   ]
  },
  {
   "cell_type": "code",
   "execution_count": null,
   "id": "69def66e-5ea7-4374-9279-c73ec62ca890",
   "metadata": {},
   "outputs": [],
   "source": [
    "display_all_class_samples()"
   ]
  },
  {
   "cell_type": "markdown",
   "id": "ee07e95f-36f8-4d63-96d9-e354a3e323cc",
   "metadata": {},
   "source": [
    "Es útil poder ver las radiografías entre las diferentes clases ahora procederemos a explorar cada categoría:"
   ]
  },
  {
   "cell_type": "code",
   "execution_count": null,
   "id": "16e16dd3-b612-4909-af74-fed547011140",
   "metadata": {},
   "outputs": [],
   "source": [
    "def display_samples(samples, title, draw_boxes=False):\n",
    "    ''' Input : List of samples \n",
    "    '''\n",
    "    fig1, ax1 = plt.subplots(2,3, figsize=(18, 12), facecolor='w', edgecolor='b')\n",
    "    fig1.subplots_adjust(hspace =.3, wspace=0.3)\n",
    "    axs = ax1.ravel()\n",
    "    for item, ax in zip(samples, axs):\n",
    "        dicom = read_file(item['dicom_file'], stop_before_pixels=False)\n",
    "        img = dicom.pixel_array\n",
    "        ax.imshow(img, cmap=\"gray\")\n",
    "        if draw_boxes == True and item['boxes'] is not None:\n",
    "            for box in item['boxes']:             \n",
    "                rect = patches.Rectangle((box['x'], box['y']), box['width'], box['height'], linewidth=1.5, edgecolor='r', facecolor='none')\n",
    "                ax.add_patch(rect)\n",
    "        ax.set_title('Study : {}'.format(item['study_id']),fontsize = 18)\n",
    "        \n",
    "    plt.tight_layout(pad=3.0)\n",
    "    plt.subplots_adjust(top=0.91)\n",
    "    plt.suptitle(title,fontsize = 20)\n",
    "    plt.show()"
   ]
  },
  {
   "cell_type": "markdown",
   "id": "04d4a0c9-49dc-4d41-ba8e-8742646e4d65",
   "metadata": {},
   "source": [
    "**Negativo neumonía**"
   ]
  },
  {
   "cell_type": "code",
   "execution_count": null,
   "id": "94927fdf-4885-4fe3-a969-5c489bbf79fc",
   "metadata": {},
   "outputs": [],
   "source": [
    "display_samples(samples['Negative for Pneumonia'],'Negative for Pneumonia')"
   ]
  },
  {
   "cell_type": "code",
   "execution_count": null,
   "id": "eeb4cd9e-9e06-486c-b626-6d6791fe432f",
   "metadata": {},
   "outputs": [],
   "source": [
    "display_histogram(samples['Negative for Pneumonia'],'Negative for Pneumonia')"
   ]
  },
  {
   "cell_type": "markdown",
   "id": "9132ea9a-a5d2-45c1-82f1-d79df64b7fb2",
   "metadata": {},
   "source": [
    "**Aspecto típico**"
   ]
  },
  {
   "cell_type": "code",
   "execution_count": null,
   "id": "c9ca07ae-7a3e-41de-b89d-6867570e43a9",
   "metadata": {},
   "outputs": [],
   "source": [
    "display_samples(samples['Typical Appearance'],'Typical Appearance', draw_boxes=True)"
   ]
  },
  {
   "cell_type": "code",
   "execution_count": null,
   "id": "3a1a0593-bd90-467b-b163-5328a5397aa5",
   "metadata": {},
   "outputs": [],
   "source": [
    "display_histogram(samples['Typical Appearance'],'Typical Appearance')"
   ]
  },
  {
   "cell_type": "markdown",
   "id": "4f53f735-804f-46a1-95e4-cc90a579b7ef",
   "metadata": {},
   "source": [
    "**Apariencia intermedia**"
   ]
  },
  {
   "cell_type": "code",
   "execution_count": null,
   "id": "8b79e878-c817-4adf-8c88-81b169ef2034",
   "metadata": {},
   "outputs": [],
   "source": [
    "display_samples(samples['Indeterminate Appearance'],'Indeterminate Appearance', draw_boxes=True)"
   ]
  },
  {
   "cell_type": "code",
   "execution_count": null,
   "id": "4014d760-041c-447b-bd8a-e4494a46a176",
   "metadata": {},
   "outputs": [],
   "source": [
    "display_histogram(samples['Indeterminate Appearance'],'Indeterminate Appearance')"
   ]
  },
  {
   "cell_type": "markdown",
   "id": "add8a9ed-1081-41e9-adc7-22b532b5bef7",
   "metadata": {},
   "source": [
    "**Apariencia atípica**"
   ]
  },
  {
   "cell_type": "code",
   "execution_count": null,
   "id": "b4a57971-fc20-46d0-8f30-e0b54b6480fa",
   "metadata": {},
   "outputs": [],
   "source": [
    "display_samples(samples['Atypical Appearance'],'Atypical Appearance', draw_boxes=True)"
   ]
  },
  {
   "cell_type": "code",
   "execution_count": null,
   "id": "c4092e08-16df-4cf0-bbb7-860b732f162a",
   "metadata": {},
   "outputs": [],
   "source": [
    "display_histogram(samples['Atypical Appearance'],'Atypical Appearance')"
   ]
  },
  {
   "cell_type": "markdown",
   "id": "fc861797-22d3-458c-a45a-429d61087b67",
   "metadata": {},
   "source": [
    "Con esto tenemos una idea de cómo son las imágenes DICOM pero aún no las hemos explotado al 100% pues ellas manejan un espacio para metadata, procederemos a explorar este espacio:def get_files(file_format):\n",
    "    files=[]\n",
    "    train_files = []\n",
    "    for file in all_files:\n",
    "        if file_format in file:\n",
    "            files.append(file)\n",
    "    return files\n",
    "train_files = get_files('/train/')\n"
   ]
  },
  {
   "cell_type": "code",
   "execution_count": null,
   "id": "c9519bfc-19e2-4566-b23d-889949ac57e2",
   "metadata": {},
   "outputs": [],
   "source": [
    "def get_files(file_format):\n",
    "    files=[]\n",
    "    train_files = []\n",
    "    for file in all_files:\n",
    "        if file_format in file:\n",
    "            files.append(file)\n",
    "    return files\n",
    "train_files = get_files('/train/')\n"
   ]
  },
  {
   "cell_type": "code",
   "execution_count": null,
   "id": "4d2f68aa-3d32-4882-b4b3-c8afc0cc3422",
   "metadata": {},
   "outputs": [],
   "source": [
    "train_df = extract_metadata(columns, train_files)"
   ]
  },
  {
   "cell_type": "code",
   "execution_count": null,
   "id": "ee12c392-3571-4c3d-b4fd-27956ff95478",
   "metadata": {},
   "outputs": [],
   "source": [
    "\n",
    "\n",
    "train_df['Rows'] = train_df['Rows'].astype(int)\n",
    "train_df['Columns'] = train_df['Columns'].astype(int)\n",
    "train_df.to_csv('train_imgs_meta.csv', index=None)\n",
    "\n"
   ]
  },
  {
   "cell_type": "markdown",
   "id": "538e5cb2-d1e2-4383-b303-9d9bb12abc89",
   "metadata": {},
   "source": [
    "Metadata de las imágenes de entrenamiento"
   ]
  },
  {
   "cell_type": "code",
   "execution_count": null,
   "id": "7fd6334a-5b55-4d9d-8a53-8fffeebda8ca",
   "metadata": {},
   "outputs": [],
   "source": [
    "train_df"
   ]
  },
  {
   "cell_type": "markdown",
   "id": "f1e33d18-8cac-4794-8542-83288b8cd7d7",
   "metadata": {},
   "source": [
    "Exploraremos aún más esta data :"
   ]
  },
  {
   "cell_type": "code",
   "execution_count": null,
   "id": "32bea17c-59fc-4eae-a788-d1114176970c",
   "metadata": {},
   "outputs": [],
   "source": [
    "train_df['PatientSex'].value_counts().reset_index()\\\n",
    "    .style.background_gradient(subset=['PatientSex'], cmap='winter_r')\\"
   ]
  },
  {
   "cell_type": "code",
   "execution_count": null,
   "id": "5ebe7915-0b8f-4ec7-809c-987c9847c680",
   "metadata": {},
   "outputs": [],
   "source": [
    "train_df['BodyPartExamined'].value_counts().reset_index()\\\n",
    "    .style.background_gradient(subset=['BodyPartExamined'], cmap='nipy_spectral_r')\\"
   ]
  },
  {
   "cell_type": "code",
   "execution_count": null,
   "id": "55cf7781-a7b9-4b9f-9470-265f649e3375",
   "metadata": {},
   "outputs": [],
   "source": [
    "train_df['BitsStored'] = train_df['BitsStored'].astype(int)\n",
    "def combine_image_size(row):\n",
    "    return str(row['Rows']) + ',' + str(row['Columns'])\n",
    "train_df['ImageSize'] = train_df.apply(lambda x: combine_image_size(x), axis=1)"
   ]
  },
  {
   "cell_type": "code",
   "execution_count": null,
   "id": "66a16cbe-b00e-4202-ae51-14362a7db2f1",
   "metadata": {},
   "outputs": [],
   "source": [
    "fig = go.Figure(go.Scattergl(\n",
    "    x=train_df['Rows'], y=train_df['Columns'],\n",
    "    name='Image Size',\n",
    "    mode='markers',  \n",
    "    marker=dict(\n",
    "        color='#0092CC',\n",
    "    )\n",
    "))\n",
    "fig.update_layout(xaxis={'title' : 'Rows', \n",
    "                             'showgrid':False},\n",
    "                      yaxis={'showgrid':False,\n",
    "                            'title' : 'Columns'},\n",
    "                      showlegend=False,\n",
    "                     title = 'Train - image size')\n",
    "fig.update_traces(textfont_size=16)\n",
    "fig.show()"
   ]
  },
  {
   "cell_type": "code",
   "execution_count": null,
   "id": "4a8d9b47-d7c2-4648-ac56-477cce7a18a0",
   "metadata": {},
   "outputs": [],
   "source": []
  },
  {
   "cell_type": "code",
   "execution_count": null,
   "id": "1bc87e94-e3d4-43b4-9dba-b6a7abf6dbbe",
   "metadata": {},
   "outputs": [],
   "source": []
  }
 ],
 "metadata": {
  "kernelspec": {
   "display_name": "venv",
   "language": "python",
   "name": "venv"
  },
  "language_info": {
   "codemirror_mode": {
    "name": "ipython",
    "version": 3
   },
   "file_extension": ".py",
   "mimetype": "text/x-python",
   "name": "python",
   "nbconvert_exporter": "python",
   "pygments_lexer": "ipython3",
   "version": "3.8.10"
  }
 },
 "nbformat": 4,
 "nbformat_minor": 5
}
